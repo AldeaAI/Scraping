{
 "cells": [
  {
   "cell_type": "code",
   "execution_count": null,
   "id": "0d128588-c6df-4bfe-8fc1-3c5923016bfd",
   "metadata": {},
   "outputs": [],
   "source": [
    "# https://www.medellin.gov.co/mapgis9/mapa.jsp?aplicacion=1&css=css/app_mapas_medellin.css\n",
    "\n",
    "import geopandas as gpd\n",
    "import folium\n",
    "\n"
   ]
  },
  {
   "cell_type": "code",
   "execution_count": null,
   "id": "fdf66d04-37f7-46e5-a1b1-2ce8106f2a0d",
   "metadata": {},
   "outputs": [],
   "source": [
    "# Load the shapefile\n",
    "gdf = gpd.read_file('shp_barrios_y_veredas/barrios_y_veredas.shp')\n",
    "\n",
    "\n",
    "# Create a map centered on Medellín\n",
    "m = folium.Map(location=[6.25184, -75.56359], zoom_start=11.5)\n",
    "\n",
    "# Add the neighborhood boundaries to the map with hover effects\n",
    "folium.GeoJson(gdf, \n",
    "               name='Neighborhoods', \n",
    "               tooltip=folium.features.GeoJsonTooltip(fields=['nombre'], \n",
    "                                                      aliases=['Barrio'], \n",
    "                                                      labels=True)\n",
    "              ).add_to(m)\n",
    "\n",
    "# Display the map\n",
    "m\n"
   ]
  },
  {
   "cell_type": "code",
   "execution_count": null,
   "id": "fd603bbe-d179-459d-8e83-959cc9e4b45c",
   "metadata": {},
   "outputs": [],
   "source": [
    "gdf"
   ]
  },
  {
   "cell_type": "code",
   "execution_count": null,
   "id": "e8c42bb0-e477-4960-8647-52a262aa9cd8",
   "metadata": {},
   "outputs": [],
   "source": [
    "# Load the shapefile\n",
    "gdf = gpd.read_file('shp_comunas_y_corregimientos_/comunas_y_corregimientos_.shp')\n",
    "gdf = gdf.drop(columns=['fecha_actu'])\n",
    "\n",
    "# Create a map centered on Medellín\n",
    "m = folium.Map(location=[6.25184, -75.56359], zoom_start=11.5)\n",
    "\n",
    "# Add the neighborhood boundaries to the map with hover effects\n",
    "folium.GeoJson(gdf, \n",
    "               name='Comunas', \n",
    "               tooltip=folium.features.GeoJsonTooltip(fields=['nombre'], \n",
    "                                                      aliases=['Barrio'], \n",
    "                                                      labels=True)\n",
    "              ).add_to(m)\n",
    "\n",
    "# Display the map\n",
    "m\n"
   ]
  },
  {
   "cell_type": "code",
   "execution_count": null,
   "id": "d70cf77b-cef5-40bb-99c9-1afea17f7b99",
   "metadata": {},
   "outputs": [],
   "source": [
    "gdf"
   ]
  }
 ],
 "metadata": {
  "kernelspec": {
   "display_name": "Python 3 (ipykernel)",
   "language": "python",
   "name": "python3"
  },
  "language_info": {
   "codemirror_mode": {
    "name": "ipython",
    "version": 3
   },
   "file_extension": ".py",
   "mimetype": "text/x-python",
   "name": "python",
   "nbconvert_exporter": "python",
   "pygments_lexer": "ipython3",
   "version": "3.10.12"
  }
 },
 "nbformat": 4,
 "nbformat_minor": 5
}
