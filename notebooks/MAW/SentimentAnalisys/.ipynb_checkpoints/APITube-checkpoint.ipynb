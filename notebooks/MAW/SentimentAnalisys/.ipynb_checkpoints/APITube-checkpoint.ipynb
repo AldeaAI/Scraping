{
 "cells": [
  {
   "cell_type": "code",
   "execution_count": 1,
   "id": "57effcb9-d706-4ac7-8d86-e78827d24a59",
   "metadata": {},
   "outputs": [],
   "source": [
    "# https://apitube.io/dashboard\n",
    "# there seems to be an issue with the countries. https://docs.apitube.io/platform/news-api/list-of-countries\n",
    "# for some reason I get colombia with the coutry code cn, from china\n",
    "# there is an issue with the seach in general\n"
   ]
  },
  {
   "cell_type": "code",
   "execution_count": 2,
   "id": "c9934107-581a-4628-ada6-fff80c6eb0c2",
   "metadata": {},
   "outputs": [],
   "source": [
    "import requests\n",
    "from dotenv import load_dotenv\n",
    "import os\n",
    "import json\n",
    "import pandas as pd\n",
    "#loads the keys from the file.env\n",
    "load_dotenv() \n",
    "\n",
    "url = \"https://api.apitube.io/v1/news/everything\"\n",
    "\n",
    "querystring = {\"limit\":\"5\", \n",
    "               \"api_key\": os.getenv(\"APITUBE_KEY\"),\n",
    "              \"source.country.code\": \"cn\",\n",
    "               # \"source.domain\": \"elcolombiano.com.co\",\n",
    "               \"per_page\": \"5\",\n",
    "              # \"source.country.name\": \"Colombia\",\n",
    "               \"language\":\"es\",\n",
    "               # \"topic.id\": \"real_estate_news\",\n",
    "               \"category\": \"IAB21\"\n",
    "              }\n",
    "# real_estate_news\n",
    "response = requests.request(\"GET\", url, params=querystring)\n",
    "\n",
    "# print(response.text)\n"
   ]
  },
  {
   "cell_type": "code",
   "execution_count": 5,
   "id": "0cedad23-854a-4adb-8dfc-e1e4cfac092f",
   "metadata": {},
   "outputs": [
    {
     "name": "stdout",
     "output_type": "stream",
     "text": [
      "{'country_name': 'Colombia', 'country_code': 'co'}\n",
      "{'overall': {'score': -0.07, 'polarity': 'negative'}, 'title': {'score': -0.11, 'polarity': 'negative'}, 'body': {'score': -0.03, 'polarity': 'negative'}}\n",
      "Asamblea declaró el 8 de diciembre de todos los años como luto nacional | El Norte\n",
      "https://elnorte.ec/asamblea-declaro-el-8-de-diciembre-de-todos-los-anos-como-luto-nacional/\n",
      "es\n",
      "[{'id': 'IAB3-7', 'name': 'Government', 'score': 0.2, 'taxonomy': 'iab-qag', 'links': {'self': 'https://api.apitube.io/v1/news/category/iab-qag/IAB3-7'}}, {'id': 'IAB9-18', 'name': 'Investors & Patents', 'score': 0.2, 'taxonomy': 'iab-qag', 'links': {'self': 'https://api.apitube.io/v1/news/category/iab-qag/IAB9-18'}}]\n",
      "------\n",
      "{'country_name': 'Colombia', 'country_code': 'co'}\n",
      "{'overall': {'score': 0.09, 'polarity': 'positive'}, 'title': {'score': 0.14, 'polarity': 'positive'}, 'body': {'score': 0.04, 'polarity': 'positive'}}\n",
      "La lista de los logros de Germán Ricardo Camacho en su primer año como alcalde de Paipa - Boyacá 7 Días\n",
      "https://boyaca7dias.com.co/2025/01/05/la-lista-de-los-logros-de-german-ricardo-camacho-en-su-primer-ano-como-alcalde-de-paipa/\n",
      "es\n",
      "[{'id': 'IAB22', 'name': 'Shopping', 'score': 0.3, 'taxonomy': 'iab-qag', 'links': {'self': 'https://api.apitube.io/v1/news/category/iab-qag/IAB22'}}, {'id': 'IAB22-2', 'name': 'Couponing', 'score': 0.2, 'taxonomy': 'iab-qag', 'links': {'self': 'https://api.apitube.io/v1/news/category/iab-qag/IAB22-2'}}]\n",
      "------\n",
      "{'country_name': 'Colombia', 'country_code': 'co'}\n",
      "{'overall': {'score': 0.09, 'polarity': 'positive'}, 'title': {'score': 0.14, 'polarity': 'positive'}, 'body': {'score': 0.04, 'polarity': 'positive'}}\n",
      "La lista de los logros de Germán Ricardo Camacho en su primer año como alcalde de Paipa - Boyacá 7 Días\n",
      "https://boyaca7dias.com.co/2025/01/05/la-lista-de-los-logros-de-german-ricardo-camacho-en-su-primer-ano-como-alcalde-de-paipa/\n",
      "es\n",
      "[{'id': 'IAB22', 'name': 'Shopping', 'score': 0.3, 'taxonomy': 'iab-qag', 'links': {'self': 'https://api.apitube.io/v1/news/category/iab-qag/IAB22'}}, {'id': 'IAB22-2', 'name': 'Couponing', 'score': 0.2, 'taxonomy': 'iab-qag', 'links': {'self': 'https://api.apitube.io/v1/news/category/iab-qag/IAB22-2'}}]\n",
      "------\n",
      "{'country_name': 'Colombia', 'country_code': 'co'}\n",
      "{'overall': {'score': 0.09, 'polarity': 'positive'}, 'title': {'score': 0.14, 'polarity': 'positive'}, 'body': {'score': 0.04, 'polarity': 'positive'}}\n",
      "La lista de los logros de Germán Ricardo Camacho en su primer año como alcalde de Paipa - Boyacá 7 Días\n",
      "https://boyaca7dias.com.co/2025/01/05/la-lista-de-los-logros-de-german-ricardo-camacho-en-su-primer-ano-como-alcalde-de-paipa/\n",
      "es\n",
      "[{'id': 'IAB22', 'name': 'Shopping', 'score': 0.3, 'taxonomy': 'iab-qag', 'links': {'self': 'https://api.apitube.io/v1/news/category/iab-qag/IAB22'}}, {'id': 'IAB22-2', 'name': 'Couponing', 'score': 0.2, 'taxonomy': 'iab-qag', 'links': {'self': 'https://api.apitube.io/v1/news/category/iab-qag/IAB22-2'}}]\n",
      "------\n",
      "{'country_name': 'Colombia', 'country_code': 'co'}\n",
      "{'overall': {'score': 0.09, 'polarity': 'positive'}, 'title': {'score': 0.14, 'polarity': 'positive'}, 'body': {'score': 0.04, 'polarity': 'positive'}}\n",
      "La lista de los logros de Germán Ricardo Camacho en su primer año como alcalde de Paipa - Boyacá 7 Días\n",
      "https://boyaca7dias.com.co/2025/01/05/la-lista-de-los-logros-de-german-ricardo-camacho-en-su-primer-ano-como-alcalde-de-paipa/\n",
      "es\n",
      "[{'id': 'IAB22', 'name': 'Shopping', 'score': 0.3, 'taxonomy': 'iab-qag', 'links': {'self': 'https://api.apitube.io/v1/news/category/iab-qag/IAB22'}}, {'id': 'IAB22-2', 'name': 'Couponing', 'score': 0.2, 'taxonomy': 'iab-qag', 'links': {'self': 'https://api.apitube.io/v1/news/category/iab-qag/IAB22-2'}}]\n",
      "------\n"
     ]
    }
   ],
   "source": [
    "dic_response = json.loads(response.text)\n",
    "df = pd.DataFrame(dic_response['results'])\n",
    "\n",
    "# data['results']\n",
    "\n",
    "\n",
    "for i in range(len(df)):\n",
    "    # if df.iloc[i]['country'] == ['colombia']:\n",
    "        print(df.iloc[i]['source']['location'])\n",
    "        print(df.iloc[i]['sentiment'])\n",
    "        print(df.iloc[i]['title'])\n",
    "        print(df.iloc[i]['href'])\n",
    "        print(df.iloc[i]['language'])\n",
    "        print(df.iloc[i]['categories'])\n",
    "        # print(df['results'].iloc[i]['description'])\n",
    "        print('------')\n",
    "\n",
    "# df.keys()"
   ]
  },
  {
   "cell_type": "code",
   "execution_count": 4,
   "id": "04c609e6-2dfb-4cba-9058-babe4063c91b",
   "metadata": {},
   "outputs": [],
   "source": [
    "# # import requests\n",
    "\n",
    "# # url = \"https://api.apitube.io/v1/news/everything\"\n",
    "\n",
    "# # querystring = {\n",
    "# #     \"source.domain\": \"boyaca7dias.com.co\",\n",
    "# #                \"api_key\": os.getenv(\"APITUBE_KEY\"),\n",
    "# #     \"per_page\": 50\n",
    "# # }\n",
    "# # response = requests.request(\"GET\", url, params=querystring)\n",
    "\n",
    "# # print(response.text)\n",
    "\n",
    "\n",
    "\n",
    "# import http.client\n",
    "\n",
    "# conn = http.client.HTTPSConnection(\"apitube.io\")\n",
    "\n",
    "# conn.request(\"GET\", f\"/v1/news?limit=50&api_key={os.getenv('APITUBE_KEY')}\")\n",
    "\n",
    "# res = conn.getresponse()\n",
    "# data = res.read()\n",
    "\n",
    "# data"
   ]
  },
  {
   "cell_type": "code",
   "execution_count": null,
   "id": "6df9e00a-240f-4814-b62a-7d5179a5246e",
   "metadata": {},
   "outputs": [],
   "source": []
  }
 ],
 "metadata": {
  "kernelspec": {
   "display_name": "Python 3 (ipykernel)",
   "language": "python",
   "name": "python3"
  },
  "language_info": {
   "codemirror_mode": {
    "name": "ipython",
    "version": 3
   },
   "file_extension": ".py",
   "mimetype": "text/x-python",
   "name": "python",
   "nbconvert_exporter": "python",
   "pygments_lexer": "ipython3",
   "version": "3.10.12"
  }
 },
 "nbformat": 4,
 "nbformat_minor": 5
}
