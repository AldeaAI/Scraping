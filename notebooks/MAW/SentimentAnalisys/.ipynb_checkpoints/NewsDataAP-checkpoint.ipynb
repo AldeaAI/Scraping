{
 "cells": [
  {
   "cell_type": "code",
   "execution_count": 3,
   "id": "57effcb9-d706-4ac7-8d86-e78827d24a59",
   "metadata": {},
   "outputs": [],
   "source": [
    "# https://newsdata.io/documentation/#client_py\n",
    "\n",
    "#nice but it does not show the content of the articles with the free plan"
   ]
  },
  {
   "cell_type": "code",
   "execution_count": 46,
   "id": "49141c1e-4795-4ae3-9511-4afb3668cdad",
   "metadata": {},
   "outputs": [],
   "source": [
    "from newsdataapi import NewsDataApiClient\n",
    "import pandas as pd\n",
    "from dotenv import load_dotenv\n",
    "import os\n",
    "\n",
    "#loads the keys from the file.env\n",
    "load_dotenv() \n",
    "\n",
    "\n",
    "# API key authorization, Initialize the client with your API key\n",
    "\n",
    "api = NewsDataApiClient(apikey=os.getenv(\"NEWSDATAAPI_KEY\"))\n",
    "\n",
    "# You can pass empty or with request parameters {ex. (country = \"us\")}\n",
    "\n",
    "response = api.latest_api( q= \"mercado inmobiliario\" , country = \"co\", scroll=True)\n",
    "\n",
    "df = pd.DataFrame(response)\n",
    "\n",
    "# Print the DataFrame\n",
    "# df"
   ]
  },
  {
   "cell_type": "code",
   "execution_count": 48,
   "id": "d441c9a6-fcdd-4d04-96f8-9ea54eec417b",
   "metadata": {},
   "outputs": [
    {
     "name": "stdout",
     "output_type": "stream",
     "text": [
      "['colombia']\n",
      "2025-01-08 18:14:13\n",
      "Larepublica\n",
      "El precio de vivienda de España cierra 2024 con 8,4%, la más alta de la serie histórica\n",
      "https://www.larepublica.co/globoeconomia/el-precio-de-vivienda-de-espana-cierra-2024-con-8-4-la-mas-alta-de-la-serie-historica-4032576\n",
      "------\n",
      "['colombia']\n",
      "2025-01-08 12:06:38\n",
      "Marca Claro\n",
      "El precio de la vivienda encara un arranque de 2025 con previsiones de subida de más del 4%\n",
      "https://www.marca.com/tiramillas/actualidad/economia/2025/01/08/677e620246163f1c698b45b6.html\n",
      "------\n",
      "['colombia']\n",
      "2025-01-08 05:00:35\n",
      "Larepublica\n",
      "\"No descartamos volver al negocio financiero, pero no lo haremos en el corto plazo\"\n",
      "https://www.larepublica.co/finanzas/entrevista-con-jose-fernando-llano-presidente-de-grupo-colpatria-sobre-negocio-scotiabank-y-davivienda-4031755\n",
      "------\n",
      "['colombia']\n",
      "2025-01-07 22:17:28\n",
      "Rcn Radio\n",
      "¿Se puede VENDER una casa con HIPOTECA? Todo lo que necesita saber\n",
      "https://www.rcnradio.com/colombia/necesita-salir-de-una-casa-hipotecada-expertos-revelan-si-puede-venderla-y-como-hacerlo\n",
      "------\n",
      "['colombia']\n",
      "2025-01-07 22:06:11\n",
      "Naplesnews\n",
      "Petróleo se encarece ante debilidad del dólar y dudas por suministro en Rusia e Irán\n",
      "https://www.portafolio.co/internacional/petroleo-se-encarece-ante-debilidad-del-dolar-y-dudas-por-suministro-en-rusia-e-iran-621159\n",
      "------\n",
      "['colombia']\n",
      "2025-01-07 18:17:14\n",
      "Elcolombiano\n",
      "Así queda el panorama financiero en Colombia tras el anuncio de integración entre Davivienda y Scotiabank Colpatria\n",
      "https://www.elcolombiano.com/negocios/davivienda-y-scotiabank-colpatria-la-fusion-que-cambia-la-banca-en-colombia-FH26302061\n",
      "------\n"
     ]
    }
   ],
   "source": [
    "for i in range(len(df['results'])):\n",
    "    if df['results'].iloc[i]['country'] == ['colombia']:\n",
    "        print(df['results'].iloc[i]['country'])\n",
    "        print(df['results'].iloc[i]['pubDate'])\n",
    "        print(df['results'].iloc[i]['source_name'])\n",
    "        print(df['results'].iloc[i]['title'])\n",
    "        print(df['results'].iloc[i]['link'])\n",
    "        # print(df['results'].iloc[i]['description'])\n",
    "        print('------')\n"
   ]
  },
  {
   "cell_type": "code",
   "execution_count": 30,
   "id": "6e279523-bdc3-4f3e-94d8-c700eaad3b27",
   "metadata": {},
   "outputs": [
    {
     "data": {
      "text/plain": [
       "{'article_id': '6cd08a823c35098d0b3e57a10d411714',\n",
       " 'title': 'Nuevo alivio fiscal en CABA: cómo evitar el 3,5% del Impuesto de Sellos y ahorrar en la compra de la primera vivienda',\n",
       " 'link': 'https://www.infobae.com/economia/2025/01/08/nuevo-alivio-fiscal-en-caba-como-evitar-el-35-del-impuesto-de-sellos-y-ahorrar-en-la-compra-de-la-primera-vivienda/',\n",
       " 'keywords': None,\n",
       " 'creator': ['José Luis Cieri'],\n",
       " 'video_url': None,\n",
       " 'description': 'Ya rige la reducción de este gravamen. A quiénes beneficia en la compra de un inmueble y qué opina el sector mercado inmobiliario',\n",
       " 'content': 'ONLY AVAILABLE IN PAID PLANS',\n",
       " 'pubDate': '2025-01-08 05:15:47',\n",
       " 'pubDateTZ': 'UTC',\n",
       " 'image_url': 'https://www.infobae.com/resizer/v2/JOKFG43XZBEJTF7727UXYUPITI.jpg?auth=c9ef9ca88291081201afc924e4817b084d4ec7e0fce88ad7f9eba0267cfe501d&height=816&smart=true&width=1456',\n",
       " 'source_id': 'infobae',\n",
       " 'source_priority': 1056,\n",
       " 'source_name': 'Infobae',\n",
       " 'source_url': 'https://www.infobae.com',\n",
       " 'source_icon': 'https://i.bytvi.com/domain_icons/infobae.png',\n",
       " 'language': 'spanish',\n",
       " 'country': ['united states of america', 'colombia', 'mexico', 'argentina'],\n",
       " 'category': ['top'],\n",
       " 'ai_tag': 'ONLY AVAILABLE IN PROFESSIONAL AND CORPORATE PLANS',\n",
       " 'sentiment': 'ONLY AVAILABLE IN PROFESSIONAL AND CORPORATE PLANS',\n",
       " 'sentiment_stats': 'ONLY AVAILABLE IN PROFESSIONAL AND CORPORATE PLANS',\n",
       " 'ai_region': 'ONLY AVAILABLE IN CORPORATE PLANS',\n",
       " 'ai_org': 'ONLY AVAILABLE IN CORPORATE PLANS',\n",
       " 'duplicate': False}"
      ]
     },
     "execution_count": 30,
     "metadata": {},
     "output_type": "execute_result"
    }
   ],
   "source": [
    "df['results'].iloc[0]"
   ]
  }
 ],
 "metadata": {
  "kernelspec": {
   "display_name": "Python 3 (ipykernel)",
   "language": "python",
   "name": "python3"
  },
  "language_info": {
   "codemirror_mode": {
    "name": "ipython",
    "version": 3
   },
   "file_extension": ".py",
   "mimetype": "text/x-python",
   "name": "python",
   "nbconvert_exporter": "python",
   "pygments_lexer": "ipython3",
   "version": "3.10.12"
  }
 },
 "nbformat": 4,
 "nbformat_minor": 5
}
