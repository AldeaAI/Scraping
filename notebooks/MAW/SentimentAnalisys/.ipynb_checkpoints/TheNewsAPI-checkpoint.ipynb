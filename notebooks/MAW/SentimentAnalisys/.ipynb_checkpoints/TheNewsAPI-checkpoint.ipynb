{
 "cells": [
  {
   "cell_type": "code",
   "execution_count": null,
   "id": "0bbe8d61-8c66-444f-8325-1d2984cfaa23",
   "metadata": {},
   "outputs": [],
   "source": [
    "#Seems to work rather well"
   ]
  },
  {
   "cell_type": "code",
   "execution_count": 64,
   "id": "32de4050-64d1-4427-8ce2-50577c8bdc13",
   "metadata": {},
   "outputs": [
    {
     "data": {
      "text/plain": [
       "{'error': {'code': 'usage_limit_reached',\n",
       "  'message': 'The usage limit for this account has been reached.'}}"
      ]
     },
     "execution_count": 64,
     "metadata": {},
     "output_type": "execute_result"
    }
   ],
   "source": [
    "import http.client, urllib.parse\n",
    "import json\n",
    "\n",
    "connection = http.client.HTTPSConnection('api.thenewsapi.com')\n",
    "\n",
    "params = urllib.parse.urlencode({\n",
    "    'api_token': '88eD56ZFoktj5xcqT1hwgYssjKFmyT29TaNgnPML',\n",
    "    # 'limit': 5,\n",
    "    'language':'es',\n",
    "    'domains': 'eltiempo.com,elcolombiano.com,blogs.elespectador.com,banrep.gov.co,lasillavacia.com,las2orillas.co,kienyke.com',\n",
    "    # 'domains': 'larepublica.co',\n",
    "    # 'search': 'Finca + colombia' ,\n",
    "    'published_after': '2025-01-01'\n",
    "    })\n",
    "\n",
    "\n",
    "\n",
    "\n",
    "connection.request('GET', '/v1/news/all?{}'.format(params))\n",
    "\n",
    "# connection.request('GET', '/v1/news/sources?{}'.format(params))\n",
    "\n",
    "response = connection.getresponse()\n",
    "data = response.read()\n",
    "\n",
    "# print(data.decode('utf-8'))\n",
    "\n",
    "dic_response = json.loads(data)\n",
    "\n",
    "dic_response"
   ]
  },
  {
   "cell_type": "code",
   "execution_count": 63,
   "id": "f57f83d5-e718-41f3-84db-3b69a709d343",
   "metadata": {},
   "outputs": [
    {
     "ename": "KeyError",
     "evalue": "'data'",
     "output_type": "error",
     "traceback": [
      "\u001b[0;31m---------------------------------------------------------------------------\u001b[0m",
      "\u001b[0;31mKeyError\u001b[0m                                  Traceback (most recent call last)",
      "Cell \u001b[0;32mIn[63], line 25\u001b[0m\n\u001b[1;32m     20\u001b[0m \u001b[38;5;66;03m# print(data.decode('utf-8'))\u001b[39;00m\n\u001b[1;32m     22\u001b[0m dic_response \u001b[38;5;241m=\u001b[39m json\u001b[38;5;241m.\u001b[39mloads(data)\n\u001b[0;32m---> 25\u001b[0m \u001b[38;5;28;01mfor\u001b[39;00m source \u001b[38;5;129;01min\u001b[39;00m (\u001b[43mdic_response\u001b[49m\u001b[43m[\u001b[49m\u001b[38;5;124;43m\"\u001b[39;49m\u001b[38;5;124;43mdata\u001b[39;49m\u001b[38;5;124;43m\"\u001b[39;49m\u001b[43m]\u001b[49m):\n\u001b[1;32m     26\u001b[0m     \u001b[38;5;28;01mif\u001b[39;00m source[\u001b[38;5;124m'\u001b[39m\u001b[38;5;124mlocale\u001b[39m\u001b[38;5;124m'\u001b[39m] \u001b[38;5;241m==\u001b[39m \u001b[38;5;124m'\u001b[39m\u001b[38;5;124mco\u001b[39m\u001b[38;5;124m'\u001b[39m:\n\u001b[1;32m     27\u001b[0m         \u001b[38;5;28mprint\u001b[39m(source)\n",
      "\u001b[0;31mKeyError\u001b[0m: 'data'"
     ]
    }
   ],
   "source": [
    "import http.client, urllib.parse\n",
    "import json\n",
    "\n",
    "connection = http.client.HTTPSConnection('api.thenewsapi.com')\n",
    "\n",
    "for page in range(50):\n",
    "    params = urllib.parse.urlencode({\n",
    "        'api_token': '88eD56ZFoktj5xcqT1hwgYssjKFmyT29TaNgnPML',\n",
    "        'language':'es',\n",
    "        'page': str(page+49),\n",
    "        })\n",
    "    \n",
    "    # connection.request('GET', '/v1/news/all?{}'.format(params))\n",
    "    \n",
    "    connection.request('GET', '/v1/news/sources?{}'.format(params))\n",
    "    \n",
    "    response = connection.getresponse()\n",
    "    data = response.read()\n",
    "    \n",
    "    # print(data.decode('utf-8'))\n",
    "    \n",
    "    dic_response = json.loads(data)\n",
    "    \n",
    "    \n",
    "    for source in (dic_response[\"data\"]):\n",
    "        if source['locale'] == 'co':\n",
    "            print(source)"
   ]
  },
  {
   "cell_type": "code",
   "execution_count": null,
   "id": "dd9c9a78-bd32-45d4-95d9-e3b8f5e244f2",
   "metadata": {},
   "outputs": [],
   "source": []
  }
 ],
 "metadata": {
  "kernelspec": {
   "display_name": "Python 3 (ipykernel)",
   "language": "python",
   "name": "python3"
  },
  "language_info": {
   "codemirror_mode": {
    "name": "ipython",
    "version": 3
   },
   "file_extension": ".py",
   "mimetype": "text/x-python",
   "name": "python",
   "nbconvert_exporter": "python",
   "pygments_lexer": "ipython3",
   "version": "3.10.12"
  }
 },
 "nbformat": 4,
 "nbformat_minor": 5
}
