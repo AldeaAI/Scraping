{
 "cells": [
  {
   "cell_type": "code",
   "execution_count": null,
   "id": "0bbe8d61-8c66-444f-8325-1d2984cfaa23",
   "metadata": {},
   "outputs": [],
   "source": [
    "#Seems to work rather well"
   ]
  },
  {
   "cell_type": "code",
   "execution_count": 68,
   "id": "32de4050-64d1-4427-8ce2-50577c8bdc13",
   "metadata": {},
   "outputs": [
    {
     "data": {
      "text/plain": [
       "{'meta': {'found': 2484, 'returned': 3, 'limit': 3, 'page': 1},\n",
       " 'data': [{'uuid': 'e1afa7aa-93d9-4594-9a55-6b7639c600ae',\n",
       "   'title': 'Murió presunto ladrón en Kennedy: Escolta de la Unidad Nacional de Protección reaccionó a intento de hurto',\n",
       "   'description': 'El supuesto delincuente abordó al funcionario cuando este salía de su casa hacia el trabajo.',\n",
       "   'keywords': 'Ladrón, Escolta, UNP',\n",
       "   'snippet': 'La url ha sido copiada en el portapapeles\\n\\nIngrese o regístrese acá para guardar los artículos en su zona de usuario y leerlos cuando quiera\\n\\nUn nuevo caso d...',\n",
       "   'url': 'https://www.eltiempo.com/bogota/murio-presunto-ladron-en-kennedy-escolta-de-la-unidad-nacional-de-proteccion-reacciono-a-hurto-3416640',\n",
       "   'image_url': 'https://imagenes.eltiempo.com/files/og_thumbnail/uploads/2025/01/11/6782b87547b02.jpeg',\n",
       "   'language': 'es',\n",
       "   'published_at': '2025-01-11T18:35:00.000000Z',\n",
       "   'source': 'eltiempo.com',\n",
       "   'categories': ['general'],\n",
       "   'relevance_score': None},\n",
       "  {'uuid': '1096b0d5-8f8c-466c-8f76-f060036381c3',\n",
       "   'title': \"'Anoté todas las veces que bebí durante un año; me sorprendió ver este riesgo'\",\n",
       "   'description': 'La joven se asombró por sus resultados y eligió cambiar sus hábitos.',\n",
       "   'keywords': 'anoté, todas, las, veces, que',\n",
       "   'snippet': 'Ingrese o regístrese acá para guardar los artículos en su zona de usuario y leerlos cuando quiera\\n\\nson pocos los que llevan la cuenta de la cantidad que ingi...',\n",
       "   'url': 'https://www.eltiempo.com/mundo/eeuu-y-canada/anote-todas-las-veces-que-bebi-durante-un-ano-me-sorprendio-ver-este-riesgo-3415344',\n",
       "   'image_url': 'https://imagenes.eltiempo.com/files/og_thumbnail/files/fp/uploads/2025/01/07/677d6bd877de9.r_d.334-191-17142.jpeg',\n",
       "   'language': 'es',\n",
       "   'published_at': '2025-01-11T18:30:00.000000Z',\n",
       "   'source': 'eltiempo.com',\n",
       "   'categories': ['general'],\n",
       "   'relevance_score': None},\n",
       "  {'uuid': 'a1206988-0d98-435a-952c-f1f1382e279c',\n",
       "   'title': 'Por presuntas amenazas de muerte al personal médico cerraron puesto de salud en zona rural de Riofrío, Valle',\n",
       "   'description': 'Gobernación rechazó la situación y pidió a las autoridades rodear a la misión médica.',\n",
       "   'keywords': 'Amenazas, Riofrío, hospital, polémica',\n",
       "   'snippet': 'Ingrese o regístrese acá para guardar los artículos en su zona de usuario y leerlos cuando quiera\\n\\nFrente a las presuntas amenazas de muerte contra el person...',\n",
       "   'url': 'https://www.eltiempo.com/colombia/cali/por-amenazas-de-muerte-al-personal-medico-cerraron-puesto-de-salud-en-zona-rural-de-riofrio-norte-del-valle-3416633',\n",
       "   'image_url': 'https://imagenes.eltiempo.com/files/og_thumbnail/uploads/2025/01/11/6782b517a210e.jpeg',\n",
       "   'language': 'es',\n",
       "   'published_at': '2025-01-11T18:25:00.000000Z',\n",
       "   'source': 'eltiempo.com',\n",
       "   'categories': ['general'],\n",
       "   'relevance_score': None}]}"
      ]
     },
     "execution_count": 68,
     "metadata": {},
     "output_type": "execute_result"
    }
   ],
   "source": [
    "import http.client, urllib.parse\n",
    "import json\n",
    "from dotenv import load_dotenv\n",
    "import os\n",
    "\n",
    "#loads the keys from the file.env\n",
    "load_dotenv() \n",
    "\n",
    "\n",
    "connection = http.client.HTTPSConnection('api.thenewsapi.com')\n",
    "\n",
    "params = urllib.parse.urlencode({\n",
    "    'api_token': os.getenv(\"THENEWSAPI_KEY\"),\n",
    "    # 'limit': 5,\n",
    "    'language':'es',\n",
    "    'domains': 'eltiempo.com,elcolombiano.com,\\\n",
    "                blogs.elespectador.com,\\\n",
    "                banrep.gov.co,\\\n",
    "                lasillavacia.com,\\\n",
    "                las2orillas.co,\\\n",
    "                kienyke.com,\\\n",
    "                wradio.com.co',\n",
    "    # 'search': 'Finca + colombia' ,\n",
    "    'published_after': '2025-01-01'\n",
    "    })\n",
    "\n",
    "\n",
    "\n",
    "\n",
    "connection.request('GET', '/v1/news/all?{}'.format(params))\n",
    "\n",
    "# connection.request('GET', '/v1/news/sources?{}'.format(params))\n",
    "\n",
    "response = connection.getresponse()\n",
    "data = response.read()\n",
    "\n",
    "# print(data.decode('utf-8'))\n",
    "\n",
    "dic_response = json.loads(data)\n",
    "\n",
    "dic_response"
   ]
  },
  {
   "cell_type": "code",
   "execution_count": 70,
   "id": "f57f83d5-e718-41f3-84db-3b69a709d343",
   "metadata": {},
   "outputs": [
    {
     "ename": "KeyError",
     "evalue": "'data'",
     "output_type": "error",
     "traceback": [
      "\u001b[0;31m---------------------------------------------------------------------------\u001b[0m",
      "\u001b[0;31mKeyError\u001b[0m                                  Traceback (most recent call last)",
      "Cell \u001b[0;32mIn[70], line 25\u001b[0m\n\u001b[1;32m     20\u001b[0m \u001b[38;5;66;03m# print(data.decode('utf-8'))\u001b[39;00m\n\u001b[1;32m     22\u001b[0m dic_response \u001b[38;5;241m=\u001b[39m json\u001b[38;5;241m.\u001b[39mloads(data)\n\u001b[0;32m---> 25\u001b[0m \u001b[38;5;28;01mfor\u001b[39;00m source \u001b[38;5;129;01min\u001b[39;00m (\u001b[43mdic_response\u001b[49m\u001b[43m[\u001b[49m\u001b[38;5;124;43m\"\u001b[39;49m\u001b[38;5;124;43mdata\u001b[39;49m\u001b[38;5;124;43m\"\u001b[39;49m\u001b[43m]\u001b[49m):\n\u001b[1;32m     26\u001b[0m     \u001b[38;5;28;01mif\u001b[39;00m source[\u001b[38;5;124m'\u001b[39m\u001b[38;5;124mlocale\u001b[39m\u001b[38;5;124m'\u001b[39m] \u001b[38;5;241m==\u001b[39m \u001b[38;5;124m'\u001b[39m\u001b[38;5;124mco\u001b[39m\u001b[38;5;124m'\u001b[39m:\n\u001b[1;32m     27\u001b[0m         \u001b[38;5;28mprint\u001b[39m(source)\n",
      "\u001b[0;31mKeyError\u001b[0m: 'data'"
     ]
    }
   ],
   "source": [
    "import http.client, urllib.parse\n",
    "import json\n",
    "\n",
    "connection = http.client.HTTPSConnection('api.thenewsapi.com')\n",
    "\n",
    "for page in range(50):\n",
    "    params = urllib.parse.urlencode({\n",
    "        'api_token': os.getenv(\"THENEWSAPI_KEY\"),\n",
    "        'language':'es',\n",
    "        'page': str(page+100),\n",
    "        })\n",
    "    \n",
    "    # connection.request('GET', '/v1/news/all?{}'.format(params))\n",
    "    \n",
    "    connection.request('GET', '/v1/news/sources?{}'.format(params))\n",
    "    \n",
    "    response = connection.getresponse()\n",
    "    data = response.read()\n",
    "    \n",
    "    # print(data.decode('utf-8'))\n",
    "    \n",
    "    dic_response = json.loads(data)\n",
    "    \n",
    "    \n",
    "    for source in (dic_response[\"data\"]):\n",
    "        if source['locale'] == 'co':\n",
    "            print(source)"
   ]
  },
  {
   "cell_type": "code",
   "execution_count": null,
   "id": "dd9c9a78-bd32-45d4-95d9-e3b8f5e244f2",
   "metadata": {},
   "outputs": [],
   "source": []
  }
 ],
 "metadata": {
  "kernelspec": {
   "display_name": "Python 3 (ipykernel)",
   "language": "python",
   "name": "python3"
  },
  "language_info": {
   "codemirror_mode": {
    "name": "ipython",
    "version": 3
   },
   "file_extension": ".py",
   "mimetype": "text/x-python",
   "name": "python",
   "nbconvert_exporter": "python",
   "pygments_lexer": "ipython3",
   "version": "3.10.12"
  }
 },
 "nbformat": 4,
 "nbformat_minor": 5
}
