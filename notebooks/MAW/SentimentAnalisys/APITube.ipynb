{
 "cells": [
  {
   "cell_type": "code",
   "execution_count": 1,
   "id": "57effcb9-d706-4ac7-8d86-e78827d24a59",
   "metadata": {},
   "outputs": [],
   "source": [
    "# https://apitube.io/dashboard\n",
    "# there seems to be an issue with the countries. https://docs.apitube.io/platform/news-api/list-of-countries\n",
    "# for some reason I get colombia with the coutry code cn, from china\n",
    "### it was fixed\n",
    "# there is an issue with the seach in general?\n"
   ]
  },
  {
   "cell_type": "code",
   "execution_count": 48,
   "id": "c9934107-581a-4628-ada6-fff80c6eb0c2",
   "metadata": {},
   "outputs": [],
   "source": [
    "import requests\n",
    "from dotenv import load_dotenv\n",
    "import os\n",
    "import json\n",
    "import pandas as pd\n",
    "#loads the keys from the file.env\n",
    "load_dotenv() \n",
    "\n",
    "url = \"https://api.apitube.io/v1/news/everything\"\n",
    "\n",
    "querystring = {\"limit\":\"5\", \n",
    "               \"api_key\": os.getenv(\"APITUBE_KEY\"),\n",
    "              \"source.country.code\": \"co\",\n",
    "               \"per_page\": \"5\",\n",
    "               \"language\":\"es\",\n",
    "               # \"category\": \"IAB17-1\",\n",
    "                \"title\": \"raiz\",\n",
    "              }\n",
    "# real_estate_news\n",
    "response = requests.request(\"GET\", url, params=querystring)\n",
    "\n",
    "# print(response.text)\n"
   ]
  },
  {
   "cell_type": "code",
   "execution_count": 49,
   "id": "0cedad23-854a-4adb-8dfc-e1e4cfac092f",
   "metadata": {},
   "outputs": [],
   "source": [
    "dic_response = json.loads(response.text)\n",
    "df = pd.DataFrame(dic_response['results'])\n",
    "\n",
    "# data['results']\n",
    "\n",
    "\n",
    "for i in range(len(df)):\n",
    "    # if df.iloc[i]['country'] == ['colombia']:\n",
    "        print(df.iloc[i]['source']['location'])\n",
    "        print(df.iloc[i]['sentiment'])\n",
    "        print(df.iloc[i]['title'])\n",
    "        print(df.iloc[i]['href'])\n",
    "        print(df.iloc[i]['language'])\n",
    "        print(df.iloc[i]['categories'])\n",
    "        # print(df['results'].iloc[i]['description'])\n",
    "        print('------')\n",
    "\n",
    "# df.keys()"
   ]
  },
  {
   "cell_type": "code",
   "execution_count": 4,
   "id": "04c609e6-2dfb-4cba-9058-babe4063c91b",
   "metadata": {},
   "outputs": [],
   "source": [
    "# # import requests\n",
    "\n",
    "# # url = \"https://api.apitube.io/v1/news/everything\"\n",
    "\n",
    "# # querystring = {\n",
    "# #     \"source.domain\": \"boyaca7dias.com.co\",\n",
    "# #                \"api_key\": os.getenv(\"APITUBE_KEY\"),\n",
    "# #     \"per_page\": 50\n",
    "# # }\n",
    "# # response = requests.request(\"GET\", url, params=querystring)\n",
    "\n",
    "# # print(response.text)\n",
    "\n",
    "\n",
    "\n",
    "# import http.client\n",
    "\n",
    "# conn = http.client.HTTPSConnection(\"apitube.io\")\n",
    "\n",
    "# conn.request(\"GET\", f\"/v1/news?limit=50&api_key={os.getenv('APITUBE_KEY')}\")\n",
    "\n",
    "# res = conn.getresponse()\n",
    "# data = res.read()\n",
    "\n",
    "# data"
   ]
  },
  {
   "cell_type": "code",
   "execution_count": null,
   "id": "6df9e00a-240f-4814-b62a-7d5179a5246e",
   "metadata": {},
   "outputs": [],
   "source": []
  }
 ],
 "metadata": {
  "kernelspec": {
   "display_name": "Python 3 (ipykernel)",
   "language": "python",
   "name": "python3"
  },
  "language_info": {
   "codemirror_mode": {
    "name": "ipython",
    "version": 3
   },
   "file_extension": ".py",
   "mimetype": "text/x-python",
   "name": "python",
   "nbconvert_exporter": "python",
   "pygments_lexer": "ipython3",
   "version": "3.10.12"
  }
 },
 "nbformat": 4,
 "nbformat_minor": 5
}
