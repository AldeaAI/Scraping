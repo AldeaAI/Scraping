{
 "cells": [
  {
   "cell_type": "code",
   "execution_count": null,
   "id": "57effcb9-d706-4ac7-8d86-e78827d24a59",
   "metadata": {},
   "outputs": [],
   "source": [
    "# https://newsapi.org/docs/client-libraries/python"
   ]
  },
  {
   "cell_type": "code",
   "execution_count": 6,
   "id": "2c5ba80e-12fe-4daa-87a8-187881da7e7e",
   "metadata": {},
   "outputs": [
    {
     "data": {
      "text/html": [
       "<div>\n",
       "<style scoped>\n",
       "    .dataframe tbody tr th:only-of-type {\n",
       "        vertical-align: middle;\n",
       "    }\n",
       "\n",
       "    .dataframe tbody tr th {\n",
       "        vertical-align: top;\n",
       "    }\n",
       "\n",
       "    .dataframe thead th {\n",
       "        text-align: right;\n",
       "    }\n",
       "</style>\n",
       "<table border=\"1\" class=\"dataframe\">\n",
       "  <thead>\n",
       "    <tr style=\"text-align: right;\">\n",
       "      <th></th>\n",
       "      <th>source</th>\n",
       "      <th>author</th>\n",
       "      <th>title</th>\n",
       "      <th>description</th>\n",
       "      <th>url</th>\n",
       "      <th>urlToImage</th>\n",
       "      <th>publishedAt</th>\n",
       "      <th>content</th>\n",
       "    </tr>\n",
       "  </thead>\n",
       "  <tbody>\n",
       "    <tr>\n",
       "      <th>0</th>\n",
       "      <td>{'id': None, 'name': 'Culturacolectiva.com'}</td>\n",
       "      <td>Alan Cruz</td>\n",
       "      <td>¡Adiós, Avengers! Feid es el nuevo superhéroe ...</td>\n",
       "      <td>¿Quién dijo que los superhéroes tenían que usa...</td>\n",
       "      <td>https://culturacolectiva.com/entretenimiento/f...</td>\n",
       "      <td>https://i0.wp.com/culturacolectiva.com/wp-cont...</td>\n",
       "      <td>2024-12-18T23:01:31Z</td>\n",
       "      <td>¿Quién dijo que los superhéroes tenían que usa...</td>\n",
       "    </tr>\n",
       "    <tr>\n",
       "      <th>1</th>\n",
       "      <td>{'id': None, 'name': 'Milenio'}</td>\n",
       "      <td>La Afición</td>\n",
       "      <td>Efraín Juárez queda absuelto del veto de tres ...</td>\n",
       "      <td>La Secretaría de Seguridad de Medellin revocó ...</td>\n",
       "      <td>https://www.milenio.com/deportes/futbol-intern...</td>\n",
       "      <td>https://cdn.milenio.com/uploads/media/2024/12/...</td>\n",
       "      <td>2024-12-28T00:45:00Z</td>\n",
       "      <td>La Secretaría de Seguridad de Medellin revocó ...</td>\n",
       "    </tr>\n",
       "    <tr>\n",
       "      <th>2</th>\n",
       "      <td>{'id': None, 'name': 'Openstreetmap.org'}</td>\n",
       "      <td>kauevestena</td>\n",
       "      <td>El State of The Map LATAM 2024</td>\n",
       "      <td>2023 tuve la oportunidad de ser parte de la or...</td>\n",
       "      <td>https://www.openstreetmap.org/user/kauevestena...</td>\n",
       "      <td>https://upload.wikimedia.org/wikipedia/commons...</td>\n",
       "      <td>2024-12-31T15:50:41Z</td>\n",
       "      <td>2023 tuve la oportunidad de ser parte de la or...</td>\n",
       "    </tr>\n",
       "  </tbody>\n",
       "</table>\n",
       "</div>"
      ],
      "text/plain": [
       "                                         source       author  \\\n",
       "0  {'id': None, 'name': 'Culturacolectiva.com'}    Alan Cruz   \n",
       "1               {'id': None, 'name': 'Milenio'}   La Afición   \n",
       "2     {'id': None, 'name': 'Openstreetmap.org'}  kauevestena   \n",
       "\n",
       "                                               title  \\\n",
       "0  ¡Adiós, Avengers! Feid es el nuevo superhéroe ...   \n",
       "1  Efraín Juárez queda absuelto del veto de tres ...   \n",
       "2                     El State of The Map LATAM 2024   \n",
       "\n",
       "                                         description  \\\n",
       "0  ¿Quién dijo que los superhéroes tenían que usa...   \n",
       "1  La Secretaría de Seguridad de Medellin revocó ...   \n",
       "2  2023 tuve la oportunidad de ser parte de la or...   \n",
       "\n",
       "                                                 url  \\\n",
       "0  https://culturacolectiva.com/entretenimiento/f...   \n",
       "1  https://www.milenio.com/deportes/futbol-intern...   \n",
       "2  https://www.openstreetmap.org/user/kauevestena...   \n",
       "\n",
       "                                          urlToImage           publishedAt  \\\n",
       "0  https://i0.wp.com/culturacolectiva.com/wp-cont...  2024-12-18T23:01:31Z   \n",
       "1  https://cdn.milenio.com/uploads/media/2024/12/...  2024-12-28T00:45:00Z   \n",
       "2  https://upload.wikimedia.org/wikipedia/commons...  2024-12-31T15:50:41Z   \n",
       "\n",
       "                                             content  \n",
       "0  ¿Quién dijo que los superhéroes tenían que usa...  \n",
       "1  La Secretaría de Seguridad de Medellin revocó ...  \n",
       "2  2023 tuve la oportunidad de ser parte de la or...  "
      ]
     },
     "execution_count": 6,
     "metadata": {},
     "output_type": "execute_result"
    }
   ],
   "source": [
    "from newsapi import NewsApiClient\n",
    "import pandas as pd\n",
    "\n",
    "# Initialize NewsApiClient with your API key\n",
    "newsapi = NewsApiClient(api_key='807b596975d84e3f812188648c6ef446')\n",
    "\n",
    "# Define query parameters\n",
    "query = 'Medellin'\n",
    "language = 'es'  # Spanish\n",
    "\n",
    "# Fetch news articles\n",
    "articles = newsapi.get_everything(q=query, language=language)\n",
    "\n",
    "# Extract articles data\n",
    "articles_data = articles['articles']\n",
    "\n",
    "# Create a pandas DataFrame\n",
    "df = pd.DataFrame(articles_data)\n",
    "\n",
    "# Print the DataFrame\n",
    "df"
   ]
  },
  {
   "cell_type": "code",
   "execution_count": 7,
   "id": "a76483a2-84dc-459f-a239-c6618a097080",
   "metadata": {},
   "outputs": [
    {
     "name": "stdout",
     "output_type": "stream",
     "text": [
      "['abc-news', 'abc-news-au', 'aftenposten', 'al-jazeera-english', 'ansa', 'argaam', 'ars-technica', 'ary-news', 'associated-press', 'australian-financial-review', 'axios', 'bbc-news', 'bbc-sport', 'bild', 'blasting-news-br', 'bleacher-report', 'bloomberg', 'breitbart-news', 'business-insider', 'buzzfeed', 'cbc-news', 'cbs-news', 'cnn', 'cnn-es', 'crypto-coins-news', 'der-tagesspiegel', 'die-zeit', 'el-mundo', 'engadget', 'entertainment-weekly', 'espn', 'espn-cric-info', 'financial-post', 'focus', 'football-italia', 'fortune', 'four-four-two', 'fox-news', 'fox-sports', 'globo', 'google-news', 'google-news-ar', 'google-news-au', 'google-news-br', 'google-news-ca', 'google-news-fr', 'google-news-in', 'google-news-is', 'google-news-it', 'google-news-ru', 'google-news-sa', 'google-news-uk', 'goteborgs-posten', 'gruenderszene', 'hacker-news', 'handelsblatt', 'ign', 'il-sole-24-ore', 'independent', 'infobae', 'info-money', 'la-gaceta', 'la-nacion', 'la-repubblica', 'le-monde', 'lenta', 'lequipe', 'les-echos', 'liberation', 'marca', 'mashable', 'medical-news-today', 'msnbc', 'mtv-news', 'mtv-news-uk', 'national-geographic', 'national-review', 'nbc-news', 'news24', 'new-scientist', 'news-com-au', 'newsweek', 'new-york-magazine', 'next-big-future', 'nfl-news', 'nhl-news', 'nrk', 'politico', 'polygon', 'rbc', 'recode', 'reddit-r-all', 'reuters', 'rt', 'rte', 'rtl-nieuws', 'sabq', 'spiegel-online', 'svenska-dagbladet', 't3n', 'talksport', 'techcrunch', 'techcrunch-cn', 'techradar', 'the-american-conservative', 'the-globe-and-mail', 'the-hill', 'the-hindu', 'the-huffington-post', 'the-irish-times', 'the-jerusalem-post', 'the-lad-bible', 'the-next-web', 'the-sport-bible', 'the-times-of-india', 'the-verge', 'the-wall-street-journal', 'the-washington-post', 'the-washington-times', 'time', 'usa-today', 'vice-news', 'wired', 'wired-de', 'wirtschafts-woche', 'xinhua-net', 'ynet']\n"
     ]
    }
   ],
   "source": [
    "# Get a list of available sources\n",
    "all_sources = newsapi.get_sources()\n",
    "\n",
    "# Extract source names\n",
    "source_names = [source['id'] for source in all_sources['sources']]\n",
    "\n",
    "# Print the list of source names\n",
    "print(source_names)"
   ]
  }
 ],
 "metadata": {
  "kernelspec": {
   "display_name": "Python 3 (ipykernel)",
   "language": "python",
   "name": "python3"
  },
  "language_info": {
   "codemirror_mode": {
    "name": "ipython",
    "version": 3
   },
   "file_extension": ".py",
   "mimetype": "text/x-python",
   "name": "python",
   "nbconvert_exporter": "python",
   "pygments_lexer": "ipython3",
   "version": "3.10.12"
  }
 },
 "nbformat": 4,
 "nbformat_minor": 5
}
