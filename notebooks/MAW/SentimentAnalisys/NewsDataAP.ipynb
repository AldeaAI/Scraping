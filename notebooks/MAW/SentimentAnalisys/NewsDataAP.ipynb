{
 "cells": [
  {
   "cell_type": "code",
   "execution_count": 1,
   "id": "57effcb9-d706-4ac7-8d86-e78827d24a59",
   "metadata": {},
   "outputs": [],
   "source": [
    "# https://newsdata.io/documentation/#client_py\n",
    "\n",
    "#nice but it does not show the content of the articles with the free plan"
   ]
  },
  {
   "cell_type": "code",
   "execution_count": 8,
   "id": "49141c1e-4795-4ae3-9511-4afb3668cdad",
   "metadata": {},
   "outputs": [
    {
     "ename": "KeyboardInterrupt",
     "evalue": "",
     "output_type": "error",
     "traceback": [
      "\u001b[0;31m---------------------------------------------------------------------------\u001b[0m",
      "\u001b[0;31mKeyboardInterrupt\u001b[0m                         Traceback (most recent call last)",
      "Cell \u001b[0;32mIn[8], line 16\u001b[0m\n\u001b[1;32m     12\u001b[0m api \u001b[38;5;241m=\u001b[39m NewsDataApiClient(apikey\u001b[38;5;241m=\u001b[39mos\u001b[38;5;241m.\u001b[39mgetenv(\u001b[38;5;124m\"\u001b[39m\u001b[38;5;124mNEWSDATAAPI_KEY\u001b[39m\u001b[38;5;124m\"\u001b[39m))\n\u001b[1;32m     14\u001b[0m \u001b[38;5;66;03m# You can pass empty or with request parameters {ex. (country = \"us\")}\u001b[39;00m\n\u001b[0;32m---> 16\u001b[0m response \u001b[38;5;241m=\u001b[39m \u001b[43mapi\u001b[49m\u001b[38;5;241;43m.\u001b[39;49m\u001b[43mlatest_api\u001b[49m\u001b[43m(\u001b[49m\u001b[43m \u001b[49m\u001b[43mq\u001b[49m\u001b[38;5;241;43m=\u001b[39;49m\u001b[43m \u001b[49m\u001b[38;5;124;43m\"\u001b[39;49m\u001b[38;5;124;43mmercado inmobiliario\u001b[39;49m\u001b[38;5;124;43m\"\u001b[39;49m\u001b[43m \u001b[49m\u001b[43m,\u001b[49m\u001b[43m \u001b[49m\u001b[43mcountry\u001b[49m\u001b[43m \u001b[49m\u001b[38;5;241;43m=\u001b[39;49m\u001b[43m \u001b[49m\u001b[38;5;124;43m\"\u001b[39;49m\u001b[38;5;124;43mco\u001b[39;49m\u001b[38;5;124;43m\"\u001b[39;49m\u001b[43m,\u001b[49m\u001b[43m \u001b[49m\u001b[43mscroll\u001b[49m\u001b[38;5;241;43m=\u001b[39;49m\u001b[38;5;28;43;01mTrue\u001b[39;49;00m\u001b[43m)\u001b[49m\n\u001b[1;32m     17\u001b[0m \u001b[38;5;66;03m# response = api.latest_api( country = \"co\", scroll=True)\u001b[39;00m\n\u001b[1;32m     18\u001b[0m \u001b[38;5;66;03m# response = api.latest_api( country = \"co\")\u001b[39;00m\n\u001b[1;32m     20\u001b[0m df \u001b[38;5;241m=\u001b[39m pd\u001b[38;5;241m.\u001b[39mDataFrame(response)\n",
      "File \u001b[0;32m~/.venv/scraping/lib/python3.10/site-packages/newsdataapi/newsdataapi_client.py:238\u001b[0m, in \u001b[0;36mNewsDataApiClient.latest_api\u001b[0;34m(self, q, qInTitle, country, category, language, domain, timeframe, size, domainurl, excludedomain, timezone, full_content, image, video, prioritydomain, page, scroll, max_result, qInMeta, tag, sentiment, region, excludefield, removeduplicate, raw_query)\u001b[0m\n\u001b[1;32m    236\u001b[0m URL_parameters_encoded \u001b[38;5;241m=\u001b[39m urlencode(URL_parameters, quote_via\u001b[38;5;241m=\u001b[39mquote)\n\u001b[1;32m    237\u001b[0m \u001b[38;5;28;01mif\u001b[39;00m scroll \u001b[38;5;241m==\u001b[39m \u001b[38;5;28;01mTrue\u001b[39;00m:\n\u001b[0;32m--> 238\u001b[0m     \u001b[38;5;28;01mreturn\u001b[39;00m \u001b[38;5;28;43mself\u001b[39;49m\u001b[38;5;241;43m.\u001b[39;49m\u001b[43m__get_feeds_all\u001b[49m\u001b[43m(\u001b[49m\u001b[43murl\u001b[49m\u001b[38;5;241;43m=\u001b[39;49m\u001b[38;5;124;43mf\u001b[39;49m\u001b[38;5;124;43m'\u001b[39;49m\u001b[38;5;132;43;01m{\u001b[39;49;00m\u001b[38;5;28;43mself\u001b[39;49m\u001b[38;5;241;43m.\u001b[39;49m\u001b[43mlatest_url\u001b[49m\u001b[38;5;132;43;01m}\u001b[39;49;00m\u001b[38;5;124;43m?\u001b[39;49m\u001b[38;5;132;43;01m{\u001b[39;49;00m\u001b[43mURL_parameters_encoded\u001b[49m\u001b[38;5;132;43;01m}\u001b[39;49;00m\u001b[38;5;124;43m'\u001b[39;49m\u001b[43m,\u001b[49m\u001b[43mmax_result\u001b[49m\u001b[38;5;241;43m=\u001b[39;49m\u001b[43mmax_result\u001b[49m\u001b[43m)\u001b[49m\n\u001b[1;32m    239\u001b[0m \u001b[38;5;28;01melse\u001b[39;00m:\n\u001b[1;32m    240\u001b[0m     \u001b[38;5;28;01mreturn\u001b[39;00m \u001b[38;5;28mself\u001b[39m\u001b[38;5;241m.\u001b[39m__get_feeds(url\u001b[38;5;241m=\u001b[39m\u001b[38;5;124mf\u001b[39m\u001b[38;5;124m'\u001b[39m\u001b[38;5;132;01m{\u001b[39;00m\u001b[38;5;28mself\u001b[39m\u001b[38;5;241m.\u001b[39mlatest_url\u001b[38;5;132;01m}\u001b[39;00m\u001b[38;5;124m?\u001b[39m\u001b[38;5;132;01m{\u001b[39;00mURL_parameters_encoded\u001b[38;5;132;01m}\u001b[39;00m\u001b[38;5;124m'\u001b[39m)\n",
      "File \u001b[0;32m~/.venv/scraping/lib/python3.10/site-packages/newsdataapi/newsdataapi_client.py:176\u001b[0m, in \u001b[0;36mNewsDataApiClient.__get_feeds_all\u001b[0;34m(self, url, max_result)\u001b[0m\n\u001b[1;32m    174\u001b[0m \u001b[38;5;28;01mwhile\u001b[39;00m data\u001b[38;5;241m.\u001b[39mget(\u001b[38;5;124m\"\u001b[39m\u001b[38;5;124mnextPage\u001b[39m\u001b[38;5;124m\"\u001b[39m):\n\u001b[1;32m    175\u001b[0m     \u001b[38;5;28;01mtry\u001b[39;00m:\n\u001b[0;32m--> 176\u001b[0m         response \u001b[38;5;241m=\u001b[39m \u001b[38;5;28;43mself\u001b[39;49m\u001b[38;5;241;43m.\u001b[39;49m\u001b[43m__get_feeds\u001b[49m\u001b[43m(\u001b[49m\u001b[43murl\u001b[49m\u001b[38;5;241;43m=\u001b[39;49m\u001b[38;5;124;43mf\u001b[39;49m\u001b[38;5;124;43m'\u001b[39;49m\u001b[38;5;132;43;01m{\u001b[39;49;00m\u001b[43murl\u001b[49m\u001b[38;5;132;43;01m}\u001b[39;49;00m\u001b[38;5;124;43m&page=\u001b[39;49m\u001b[38;5;132;43;01m{\u001b[39;49;00m\u001b[43mdata\u001b[49m\u001b[38;5;241;43m.\u001b[39;49m\u001b[43mget\u001b[49m\u001b[43m(\u001b[49m\u001b[38;5;124;43m\"\u001b[39;49m\u001b[38;5;124;43mnextPage\u001b[39;49m\u001b[38;5;124;43m\"\u001b[39;49m\u001b[43m)\u001b[49m\u001b[38;5;132;43;01m}\u001b[39;49;00m\u001b[38;5;124;43m'\u001b[39;49m\u001b[43m \u001b[49m\u001b[38;5;28;43;01mif\u001b[39;49;00m\u001b[43m \u001b[49m\u001b[43mdata\u001b[49m\u001b[38;5;241;43m.\u001b[39;49m\u001b[43mget\u001b[49m\u001b[43m(\u001b[49m\u001b[38;5;124;43m'\u001b[39;49m\u001b[38;5;124;43mresults\u001b[39;49m\u001b[38;5;124;43m'\u001b[39;49m\u001b[43m)\u001b[49m\u001b[43m \u001b[49m\u001b[38;5;28;43;01melse\u001b[39;49;00m\u001b[43m \u001b[49m\u001b[43murl\u001b[49m\u001b[43m)\u001b[49m\n\u001b[1;32m    177\u001b[0m     \u001b[38;5;28;01mexcept\u001b[39;00m NewsdataException \u001b[38;5;28;01mas\u001b[39;00m e:\n\u001b[1;32m    178\u001b[0m         \u001b[38;5;28;01mif\u001b[39;00m data[\u001b[38;5;124m'\u001b[39m\u001b[38;5;124mtotalResults\u001b[39m\u001b[38;5;124m'\u001b[39m] \u001b[38;5;129;01mis\u001b[39;00m \u001b[38;5;28;01mNone\u001b[39;00m:\n",
      "File \u001b[0;32m~/.venv/scraping/lib/python3.10/site-packages/newsdataapi/newsdataapi_client.py:141\u001b[0m, in \u001b[0;36mNewsDataApiClient.__get_feeds\u001b[0;34m(self, url, retry_count)\u001b[0m\n\u001b[1;32m    139\u001b[0m     \u001b[38;5;28;01mif\u001b[39;00m \u001b[38;5;28mself\u001b[39m\u001b[38;5;241m.\u001b[39mis_debug \u001b[38;5;241m==\u001b[39m \u001b[38;5;28;01mTrue\u001b[39;00m:\n\u001b[1;32m    140\u001b[0m         \u001b[38;5;28mprint\u001b[39m(\u001b[38;5;124mf\u001b[39m\u001b[38;5;124m\"\u001b[39m\u001b[38;5;124mDebug | \u001b[39m\u001b[38;5;132;01m{\u001b[39;00m\u001b[38;5;28mself\u001b[39m\u001b[38;5;241m.\u001b[39mget_current_dt()\u001b[38;5;132;01m}\u001b[39;00m\u001b[38;5;124m | Encountered \u001b[39m\u001b[38;5;124m'\u001b[39m\u001b[38;5;124mRateLimitExceeded\u001b[39m\u001b[38;5;124m'\u001b[39m\u001b[38;5;124m going to sleep for: \u001b[39m\u001b[38;5;132;01m{\u001b[39;00mconstants\u001b[38;5;241m.\u001b[39mDEFAULT_RETRY_DELAY_RateLimitExceeded\u001b[38;5;132;01m}\u001b[39;00m\u001b[38;5;124m seconds.\u001b[39m\u001b[38;5;124m\"\u001b[39m)\n\u001b[0;32m--> 141\u001b[0m     \u001b[43mtime\u001b[49m\u001b[38;5;241;43m.\u001b[39;49m\u001b[43msleep\u001b[49m\u001b[43m(\u001b[49m\u001b[43mconstants\u001b[49m\u001b[38;5;241;43m.\u001b[39;49m\u001b[43mDEFAULT_RETRY_DELAY_RateLimitExceeded\u001b[49m\u001b[43m)\u001b[49m\n\u001b[1;32m    142\u001b[0m     \u001b[38;5;28;01mreturn\u001b[39;00m \u001b[38;5;28mself\u001b[39m\u001b[38;5;241m.\u001b[39m__get_feeds(url\u001b[38;5;241m=\u001b[39murl,retry_count\u001b[38;5;241m=\u001b[39mretry_count\u001b[38;5;241m-\u001b[39m\u001b[38;5;241m1\u001b[39m)\n\u001b[1;32m    144\u001b[0m \u001b[38;5;28;01melse\u001b[39;00m:\n",
      "\u001b[0;31mKeyboardInterrupt\u001b[0m: "
     ]
    }
   ],
   "source": [
    "from newsdataapi import NewsDataApiClient\n",
    "import pandas as pd\n",
    "from dotenv import load_dotenv\n",
    "import os\n",
    "\n",
    "#loads the keys from the file.env\n",
    "load_dotenv() \n",
    "\n",
    "\n",
    "# API key authorization, Initialize the client with your API key\n",
    "\n",
    "api = NewsDataApiClient(apikey=os.getenv(\"NEWSDATAAPI_KEY\"))\n",
    "\n",
    "# You can pass empty or with request parameters {ex. (country = \"us\")}\n",
    "\n",
    "response = api.latest_api( q= \"mercado inmobiliario\" , country = \"co\", scroll=True)\n",
    "# response = api.latest_api( country = \"co\", scroll=True)\n",
    "# response = api.latest_api( country = \"co\")\n",
    "\n",
    "df = pd.DataFrame(response)\n",
    "\n",
    "# Print the DataFrame\n",
    "# df"
   ]
  },
  {
   "cell_type": "code",
   "execution_count": null,
   "id": "d441c9a6-fcdd-4d04-96f8-9ea54eec417b",
   "metadata": {},
   "outputs": [],
   "source": [
    "for i in range(len(df['results'])):\n",
    "    if df['results'].iloc[i]['country'] == ['colombia']:\n",
    "        print(df['results'].iloc[i]['country'])\n",
    "        print(df['results'].iloc[i]['pubDate'])\n",
    "        print(df['results'].iloc[i]['source_name'])\n",
    "        print(df['results'].iloc[i]['title'])\n",
    "        print(df['results'].iloc[i]['link'])\n",
    "        # print(df['results'].iloc[i]['description'])\n",
    "        print('------')\n"
   ]
  },
  {
   "cell_type": "code",
   "execution_count": null,
   "id": "6e279523-bdc3-4f3e-94d8-c700eaad3b27",
   "metadata": {},
   "outputs": [],
   "source": [
    "df['results'].iloc[0]"
   ]
  }
 ],
 "metadata": {
  "kernelspec": {
   "display_name": "Python 3 (ipykernel)",
   "language": "python",
   "name": "python3"
  },
  "language_info": {
   "codemirror_mode": {
    "name": "ipython",
    "version": 3
   },
   "file_extension": ".py",
   "mimetype": "text/x-python",
   "name": "python",
   "nbconvert_exporter": "python",
   "pygments_lexer": "ipython3",
   "version": "3.10.12"
  }
 },
 "nbformat": 4,
 "nbformat_minor": 5
}
