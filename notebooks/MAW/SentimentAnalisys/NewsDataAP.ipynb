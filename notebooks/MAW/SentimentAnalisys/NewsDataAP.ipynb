{
 "cells": [
  {
   "cell_type": "code",
   "execution_count": 1,
   "id": "57effcb9-d706-4ac7-8d86-e78827d24a59",
   "metadata": {},
   "outputs": [],
   "source": [
    "# https://newsdata.io/documentation/#client_py\n",
    "\n",
    "#nice but it does not show the content of the articles with the free plan"
   ]
  },
  {
   "cell_type": "code",
   "execution_count": 2,
   "id": "49141c1e-4795-4ae3-9511-4afb3668cdad",
   "metadata": {},
   "outputs": [],
   "source": [
    "from newsdataapi import NewsDataApiClient\n",
    "import pandas as pd\n",
    "from dotenv import load_dotenv\n",
    "import os\n",
    "\n",
    "#loads the keys from the file.env\n",
    "load_dotenv() \n",
    "\n",
    "\n",
    "# API key authorization, Initialize the client with your API key\n",
    "\n",
    "api = NewsDataApiClient(apikey=os.getenv(\"NEWSDATAAPI_KEY\"))\n",
    "\n",
    "# You can pass empty or with request parameters {ex. (country = \"us\")}\n",
    "\n",
    "response = api.latest_api( q= \"mercado inmobiliario\" , country = \"co\", scroll=True)\n",
    "\n",
    "df = pd.DataFrame(response)\n",
    "\n",
    "# Print the DataFrame\n",
    "# df"
   ]
  },
  {
   "cell_type": "code",
   "execution_count": 3,
   "id": "d441c9a6-fcdd-4d04-96f8-9ea54eec417b",
   "metadata": {},
   "outputs": [
    {
     "name": "stdout",
     "output_type": "stream",
     "text": [
      "['colombia']\n",
      "2025-01-11 03:36:52\n",
      "Naplesnews\n",
      "Justicia de Hong Kong ordena liquidar filial de Evergrande\n",
      "https://www.portafolio.co/internacional/justicia-de-hong-kong-ordena-liquidar-filial-de-evergrande-621430\n",
      "------\n",
      "['colombia']\n",
      "2025-01-10 11:36:01\n",
      "Hoy Diario Del Magdalena\n",
      "Santa Marta ‘estrena’ su Observatorio Catastral\n",
      "https://hoydiariodelmagdalena.com.co/archivos/1054965/santa-marta-estrena-su-observatorio-catastral/\n",
      "------\n"
     ]
    }
   ],
   "source": [
    "for i in range(len(df['results'])):\n",
    "    if df['results'].iloc[i]['country'] == ['colombia']:\n",
    "        print(df['results'].iloc[i]['country'])\n",
    "        print(df['results'].iloc[i]['pubDate'])\n",
    "        print(df['results'].iloc[i]['source_name'])\n",
    "        print(df['results'].iloc[i]['title'])\n",
    "        print(df['results'].iloc[i]['link'])\n",
    "        # print(df['results'].iloc[i]['description'])\n",
    "        print('------')\n"
   ]
  },
  {
   "cell_type": "code",
   "execution_count": 4,
   "id": "6e279523-bdc3-4f3e-94d8-c700eaad3b27",
   "metadata": {},
   "outputs": [
    {
     "data": {
      "text/plain": [
       "{'article_id': 'c3d6751e92feb97b82e0b698a80d9731',\n",
       " 'title': 'Nuevas oportunidades para las inversiones líquidas tras un Merval en máximos históricos',\n",
       " 'link': 'https://www.infobae.com/opinion/2025/01/11/nuevas-oportunidades-para-las-inversiones-liquidas-tras-un-merval-en-maximos-historicos/',\n",
       " 'keywords': None,\n",
       " 'creator': ['Diego Ilan Méndez'],\n",
       " 'video_url': None,\n",
       " 'description': 'Sectores clave como energía, finanzas y materiales enfrentan desafíos y promesas en 2025, marcando estrategias para diversificar carteras',\n",
       " 'content': 'ONLY AVAILABLE IN PAID PLANS',\n",
       " 'pubDate': '2025-01-11 04:24:09',\n",
       " 'pubDateTZ': 'UTC',\n",
       " 'image_url': 'https://www.infobae.com/resizer/v2/TMWS6NNLMVACVJAWZVSJOS5MYA.jpg?auth=25eb7fac7e6d5b6c993ab1d0bb0eef7a8d93705a85df88c7ddb43d1cbd36e2d1&height=1080&smart=true&width=1920',\n",
       " 'source_id': 'infobae',\n",
       " 'source_priority': 1056,\n",
       " 'source_name': 'Infobae',\n",
       " 'source_url': 'https://www.infobae.com',\n",
       " 'source_icon': 'https://i.bytvi.com/domain_icons/infobae.png',\n",
       " 'language': 'spanish',\n",
       " 'country': ['united states of america', 'colombia', 'mexico', 'argentina'],\n",
       " 'category': ['top'],\n",
       " 'ai_tag': 'ONLY AVAILABLE IN PROFESSIONAL AND CORPORATE PLANS',\n",
       " 'sentiment': 'ONLY AVAILABLE IN PROFESSIONAL AND CORPORATE PLANS',\n",
       " 'sentiment_stats': 'ONLY AVAILABLE IN PROFESSIONAL AND CORPORATE PLANS',\n",
       " 'ai_region': 'ONLY AVAILABLE IN CORPORATE PLANS',\n",
       " 'ai_org': 'ONLY AVAILABLE IN CORPORATE PLANS',\n",
       " 'duplicate': False}"
      ]
     },
     "execution_count": 4,
     "metadata": {},
     "output_type": "execute_result"
    }
   ],
   "source": [
    "df['results'].iloc[0]"
   ]
  }
 ],
 "metadata": {
  "kernelspec": {
   "display_name": "Python 3 (ipykernel)",
   "language": "python",
   "name": "python3"
  },
  "language_info": {
   "codemirror_mode": {
    "name": "ipython",
    "version": 3
   },
   "file_extension": ".py",
   "mimetype": "text/x-python",
   "name": "python",
   "nbconvert_exporter": "python",
   "pygments_lexer": "ipython3",
   "version": "3.10.12"
  }
 },
 "nbformat": 4,
 "nbformat_minor": 5
}
